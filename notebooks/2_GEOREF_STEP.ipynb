{
  "nbformat": 4,
  "nbformat_minor": 0,
  "metadata": {
    "colab": {
      "provenance": [],
      "machine_shape": "hm",
      "mount_file_id": "1lDllIsbQ3ooLWR-8R74NRuj1Z_JZKWQR",
      "authorship_tag": "ABX9TyNqjvDumXSmfu8hlpZUcNNJ",
      "include_colab_link": true
    },
    "kernelspec": {
      "name": "python3",
      "display_name": "Python 3"
    },
    "language_info": {
      "name": "python"
    },
    "gpuClass": "premium",
    "accelerator": "GPU"
  },
  "cells": [
    {
      "cell_type": "markdown",
      "metadata": {
        "id": "view-in-github",
        "colab_type": "text"
      },
      "source": [
        "<a href=\"https://colab.research.google.com/github/lorenzlorg/MSc-Thesis-CV/blob/main/2_GEOREF_STEP.ipynb\" target=\"_parent\"><img src=\"https://colab.research.google.com/assets/colab-badge.svg\" alt=\"Open In Colab\"/></a>"
      ]
    },
    {
      "cell_type": "markdown",
      "source": [
        "**GEOREFERENCING STEP**\n",
        "\n",
        "Questo notebook serve per georeferenziare le detection ottenute con il notebook precedente. "
      ],
      "metadata": {
        "id": "CElwn3GAlk9q"
      }
    },
    {
      "cell_type": "markdown",
      "source": [
        "# Import e funzioni"
      ],
      "metadata": {
        "id": "QKHpyTFlZJjv"
      }
    },
    {
      "cell_type": "code",
      "source": [
        "!pip install rasterio"
      ],
      "metadata": {
        "id": "o0ot6bBJtlUD",
        "colab": {
          "base_uri": "https://localhost:8080/"
        },
        "outputId": "faf20c7f-87d1-4b7a-aa1d-7add8da05f96"
      },
      "execution_count": null,
      "outputs": [
        {
          "output_type": "stream",
          "name": "stdout",
          "text": [
            "Looking in indexes: https://pypi.org/simple, https://us-python.pkg.dev/colab-wheels/public/simple/\n",
            "Collecting rasterio\n",
            "  Downloading rasterio-1.3.4-cp38-cp38-manylinux_2_17_x86_64.manylinux2014_x86_64.whl (20.9 MB)\n",
            "\u001b[2K     \u001b[90m━━━━━━━━━━━━━━━━━━━━━━━━━━━━━━━━━━━━━━━━\u001b[0m \u001b[32m20.9/20.9 MB\u001b[0m \u001b[31m64.3 MB/s\u001b[0m eta \u001b[36m0:00:00\u001b[0m\n",
            "\u001b[?25hCollecting affine\n",
            "  Downloading affine-2.3.1-py2.py3-none-any.whl (16 kB)\n",
            "Requirement already satisfied: numpy>=1.18 in /usr/local/lib/python3.8/dist-packages (from rasterio) (1.21.6)\n",
            "Collecting cligj>=0.5\n",
            "  Downloading cligj-0.7.2-py3-none-any.whl (7.1 kB)\n",
            "Requirement already satisfied: attrs in /usr/local/lib/python3.8/dist-packages (from rasterio) (22.2.0)\n",
            "Collecting snuggs>=1.4.1\n",
            "  Downloading snuggs-1.4.7-py3-none-any.whl (5.4 kB)\n",
            "Requirement already satisfied: setuptools in /usr/local/lib/python3.8/dist-packages (from rasterio) (57.4.0)\n",
            "Requirement already satisfied: click>=4.0 in /usr/local/lib/python3.8/dist-packages (from rasterio) (7.1.2)\n",
            "Requirement already satisfied: certifi in /usr/local/lib/python3.8/dist-packages (from rasterio) (2022.12.7)\n",
            "Collecting click-plugins\n",
            "  Downloading click_plugins-1.1.1-py2.py3-none-any.whl (7.5 kB)\n",
            "Requirement already satisfied: pyparsing>=2.1.6 in /usr/local/lib/python3.8/dist-packages (from snuggs>=1.4.1->rasterio) (3.0.9)\n",
            "Installing collected packages: affine, snuggs, cligj, click-plugins, rasterio\n",
            "Successfully installed affine-2.3.1 click-plugins-1.1.1 cligj-0.7.2 rasterio-1.3.4 snuggs-1.4.7\n"
          ]
        }
      ]
    },
    {
      "cell_type": "code",
      "source": [
        "!pip install geopandas"
      ],
      "metadata": {
        "id": "H-ybwghwtqnp",
        "colab": {
          "base_uri": "https://localhost:8080/"
        },
        "outputId": "ed7a90ff-4b2b-4ef9-e48e-c410faf87f0a"
      },
      "execution_count": null,
      "outputs": [
        {
          "output_type": "stream",
          "name": "stdout",
          "text": [
            "Looking in indexes: https://pypi.org/simple, https://us-python.pkg.dev/colab-wheels/public/simple/\n",
            "Collecting geopandas\n",
            "  Downloading geopandas-0.12.2-py3-none-any.whl (1.1 MB)\n",
            "\u001b[2K     \u001b[90m━━━━━━━━━━━━━━━━━━━━━━━━━━━━━━━━━━━━━━━━\u001b[0m \u001b[32m1.1/1.1 MB\u001b[0m \u001b[31m16.1 MB/s\u001b[0m eta \u001b[36m0:00:00\u001b[0m\n",
            "\u001b[?25hRequirement already satisfied: shapely>=1.7 in /usr/local/lib/python3.8/dist-packages (from geopandas) (2.0.0)\n",
            "Collecting fiona>=1.8\n",
            "  Downloading Fiona-1.8.22-cp38-cp38-manylinux_2_17_x86_64.manylinux2014_x86_64.whl (16.6 MB)\n",
            "\u001b[2K     \u001b[90m━━━━━━━━━━━━━━━━━━━━━━━━━━━━━━━━━━━━━━━━\u001b[0m \u001b[32m16.6/16.6 MB\u001b[0m \u001b[31m78.1 MB/s\u001b[0m eta \u001b[36m0:00:00\u001b[0m\n",
            "\u001b[?25hCollecting pyproj>=2.6.1.post1\n",
            "  Downloading pyproj-3.4.1-cp38-cp38-manylinux_2_17_x86_64.manylinux2014_x86_64.whl (7.8 MB)\n",
            "\u001b[2K     \u001b[90m━━━━━━━━━━━━━━━━━━━━━━━━━━━━━━━━━━━━━━━━\u001b[0m \u001b[32m7.8/7.8 MB\u001b[0m \u001b[31m81.6 MB/s\u001b[0m eta \u001b[36m0:00:00\u001b[0m\n",
            "\u001b[?25hRequirement already satisfied: pandas>=1.0.0 in /usr/local/lib/python3.8/dist-packages (from geopandas) (1.3.5)\n",
            "Requirement already satisfied: packaging in /usr/local/lib/python3.8/dist-packages (from geopandas) (21.3)\n",
            "Requirement already satisfied: setuptools in /usr/local/lib/python3.8/dist-packages (from fiona>=1.8->geopandas) (57.4.0)\n",
            "Requirement already satisfied: cligj>=0.5 in /usr/local/lib/python3.8/dist-packages (from fiona>=1.8->geopandas) (0.7.2)\n",
            "Collecting munch\n",
            "  Downloading munch-2.5.0-py2.py3-none-any.whl (10 kB)\n",
            "Requirement already satisfied: certifi in /usr/local/lib/python3.8/dist-packages (from fiona>=1.8->geopandas) (2022.12.7)\n",
            "Requirement already satisfied: click-plugins>=1.0 in /usr/local/lib/python3.8/dist-packages (from fiona>=1.8->geopandas) (1.1.1)\n",
            "Requirement already satisfied: six>=1.7 in /usr/local/lib/python3.8/dist-packages (from fiona>=1.8->geopandas) (1.15.0)\n",
            "Requirement already satisfied: click>=4.0 in /usr/local/lib/python3.8/dist-packages (from fiona>=1.8->geopandas) (7.1.2)\n",
            "Requirement already satisfied: attrs>=17 in /usr/local/lib/python3.8/dist-packages (from fiona>=1.8->geopandas) (22.2.0)\n",
            "Requirement already satisfied: numpy>=1.17.3 in /usr/local/lib/python3.8/dist-packages (from pandas>=1.0.0->geopandas) (1.21.6)\n",
            "Requirement already satisfied: pytz>=2017.3 in /usr/local/lib/python3.8/dist-packages (from pandas>=1.0.0->geopandas) (2022.7)\n",
            "Requirement already satisfied: python-dateutil>=2.7.3 in /usr/local/lib/python3.8/dist-packages (from pandas>=1.0.0->geopandas) (2.8.2)\n",
            "Requirement already satisfied: pyparsing!=3.0.5,>=2.0.2 in /usr/local/lib/python3.8/dist-packages (from packaging->geopandas) (3.0.9)\n",
            "Installing collected packages: pyproj, munch, fiona, geopandas\n",
            "Successfully installed fiona-1.8.22 geopandas-0.12.2 munch-2.5.0 pyproj-3.4.1\n"
          ]
        }
      ]
    },
    {
      "cell_type": "code",
      "execution_count": null,
      "metadata": {
        "id": "EOerTLvsYmRN"
      },
      "outputs": [],
      "source": [
        "import cv2\n",
        "import time\n",
        "import rasterio\n",
        "import numpy as np\n",
        "import pandas as pd\n",
        "import geopandas as gpd\n",
        "from sklearn.neighbors import BallTree"
      ]
    },
    {
      "cell_type": "code",
      "source": [
        "#HELPER FUNCTION TO GET CORRESPONDENCES BETWEEN TWO ARRAYS\n",
        "def find_rows(a, b):\n",
        "    \"\"\"\n",
        "    https://stackoverflow.com/questions/20230384/find-indexes-of-matching-rows-in-two-2-d-arrays\n",
        "    :param a:\n",
        "    :param b:\n",
        "    :return:\n",
        "    \"\"\"\n",
        "    dt = np.dtype((np.void, a.dtype.itemsize * a.shape[1]))\n",
        "\n",
        "    a_view = np.ascontiguousarray(a).view(dt).ravel()\n",
        "    b_view = np.ascontiguousarray(b).view(dt).ravel()\n",
        "\n",
        "    sort_b = np.argsort(b_view)\n",
        "    where_in_b = np.searchsorted(b_view, a_view, sorter=sort_b)\n",
        "    where_in_b = np.take(sort_b, where_in_b)\n",
        "    which_in_a = np.take(b_view, where_in_b) == a_view\n",
        "    where_in_b = where_in_b[which_in_a]\n",
        "    which_in_a = np.nonzero(which_in_a)[0]\n",
        "\n",
        "    return np.column_stack((which_in_a, where_in_b))\n",
        "\n",
        "\n",
        "#HELPER FUNCTION TO CONVERT PIXELS IN COORDINATES\n",
        "def get_coords(pixel):\n",
        "    return src_geo.xy(pixel[1], pixel[0])\n",
        "\n",
        "\n",
        "#HELPER FUNCTION TO FIND NEAREST POINT BETWEEN MATCHED AND NOT MATCHED\n",
        "def get_nearest(src_points, candidates, dist_metric, k_neighbors=1):\n",
        "    \"\"\"Find nearest neighbors for all source points from a set of candidate points\"\"\"\n",
        "\n",
        "    # Create tree from the candidate points\n",
        "    tree = BallTree(candidates, leaf_size=100, metric=dist_metric)\n",
        "    # haversine\n",
        "    # Find closest points and distances\n",
        "    distances, indices = tree.query(src_points, k=k_neighbors)\n",
        "\n",
        "    # Transpose to get distances and indices into arrays\n",
        "    distances = distances.transpose()\n",
        "    indices = indices.transpose()\n",
        "\n",
        "    # Get closest indices and distances (i.e. array at index 0)\n",
        "    # note: for the second closest points, you would take index 1, etc.\n",
        "    closest = indices[0]\n",
        "    closest_dist = distances[0]\n",
        "\n",
        "    # Return indices and distances\n",
        "    return (closest, closest_dist)"
      ],
      "metadata": {
        "id": "92143WTAYo0S"
      },
      "execution_count": null,
      "outputs": []
    },
    {
      "cell_type": "markdown",
      "source": [
        "# Lettura immagini e file detection"
      ],
      "metadata": {
        "id": "jm39uMYMZNlq"
      }
    },
    {
      "cell_type": "code",
      "source": [
        "# immagine originale, rettangolare con rumore\n",
        "img = cv2.imread('/content/Grid_Bocconi.png')  # img random\n",
        "# https://drive.google.com/file/d/1x2K7HHnQPzqx6p7ok7--Qm45QqHXw2uk/view?usp=share_link\n",
        "\n",
        "\n",
        "# immagine disorta\n",
        "# src = cv2.imread('/content/Grid_Bocconi_modificatoo.tif')  # img random distorta - si ottiene caricando i CGP su Grid_Bocconi.png e georeferenziando\n",
        "# src = cv2.imread('/content/Grid_Bocconi_modificato.tif')  # img random distorta\n",
        "src = cv2.imread('/content/Grid_Bocconi_modified V3.tif')  # img random distorta\n",
        "# https://drive.google.com/file/d/1W3F_85F8eNCME8_hGWS10ViGhVw6GR4R/view?usp=share_link\n",
        "\n",
        "\n",
        "\n",
        "# da usare alla fine, è l'immagine random distorta contenente informazioni geospaziali\n",
        "# src_geo = rasterio.open('/content/Grid_Bocconi_modificatoo.tif')  # img random distorta x2\n",
        "# src_geo = rasterio.open('/content/Grid_Bocconi_modificato.tif')  # img random distorta x2\n",
        "src_geo = rasterio.open('/content/Grid_Bocconi_modified V3.tif')  # img random distorta x2"
      ],
      "metadata": {
        "id": "V2zbkBe2YoxO"
      },
      "execution_count": null,
      "outputs": []
    },
    {
      "cell_type": "code",
      "source": [
        "# file txt contenente le detection\n",
        "detections = np.loadtxt('/content/drive/MyDrive/detections_YOLOv7_SORT/milan_2021-07-15_14_59_31/Copia di detection_milan_2021-07-15_14_59_31_ordered.txt')  # detection ottenute con yolo+sort\n",
        "\n",
        "detections = detections[~np.any(detections[:,2].reshape(len(detections),1) == 1080, axis=1)]  # TEMPORANEO: filtro le detections in cui sono presenti 1080 (out of range) - da controllare creazione mapping detections"
      ],
      "metadata": {
        "id": "oBw_TXI9Youk"
      },
      "execution_count": null,
      "outputs": []
    },
    {
      "cell_type": "markdown",
      "source": [
        "# 1. trovo le corrispondenze tra i valori rgb dell'immagine distorta e di quella originale (a livello di pixel)\n",
        "\n",
        "dato che i colori nelle due immagini sono univoci, quindi posso trovare una relazione 1:1 per tutti i colori da immagine originale a immagine distorta.\n",
        "\n",
        "Nell'immagine originale aggiungo una riga di nero in modo tale che il nero nell'immagine tiff sia matchabile"
      ],
      "metadata": {
        "id": "qwJq3ZmnZZKs"
      }
    },
    {
      "cell_type": "code",
      "source": [
        "img.shape"
      ],
      "metadata": {
        "colab": {
          "base_uri": "https://localhost:8080/"
        },
        "id": "RdL8SmeXiZOe",
        "outputId": "9ad7d1b5-7df6-4fd3-a9b6-a747ea9b749f"
      },
      "execution_count": null,
      "outputs": [
        {
          "output_type": "execute_result",
          "data": {
            "text/plain": [
              "(1080, 1920, 3)"
            ]
          },
          "metadata": {},
          "execution_count": 7
        }
      ]
    },
    {
      "cell_type": "code",
      "source": [
        "src.shape"
      ],
      "metadata": {
        "colab": {
          "base_uri": "https://localhost:8080/"
        },
        "id": "AKH27U-AidR0",
        "outputId": "9fdec9a0-978c-46b8-9a7e-5b458043001f"
      },
      "execution_count": null,
      "outputs": [
        {
          "output_type": "execute_result",
          "data": {
            "text/plain": [
              "(1015, 2340, 3)"
            ]
          },
          "metadata": {},
          "execution_count": 8
        }
      ]
    },
    {
      "cell_type": "code",
      "source": [
        "# corrispondenza tra colori nelle due immagini dato che sono univoci\n",
        "\n",
        "img_r, src_r = img.flatten(), src.flatten()"
      ],
      "metadata": {
        "id": "stPHblpfmbVV"
      },
      "execution_count": null,
      "outputs": []
    },
    {
      "cell_type": "code",
      "source": [
        "img_r.shape"
      ],
      "metadata": {
        "colab": {
          "base_uri": "https://localhost:8080/"
        },
        "id": "e5U-ymuzmbQ0",
        "outputId": "8603ca1d-4e28-4f1c-bb42-7d6a3e404cb0"
      },
      "execution_count": null,
      "outputs": [
        {
          "output_type": "execute_result",
          "data": {
            "text/plain": [
              "(6220800,)"
            ]
          },
          "metadata": {},
          "execution_count": 10
        }
      ]
    },
    {
      "cell_type": "code",
      "source": [
        "src_r.shape"
      ],
      "metadata": {
        "colab": {
          "base_uri": "https://localhost:8080/"
        },
        "id": "Fe8hT9iYmbGB",
        "outputId": "468b7848-3f76-4b09-ec01-8785b18824f9"
      },
      "execution_count": null,
      "outputs": [
        {
          "output_type": "execute_result",
          "data": {
            "text/plain": [
              "(7125300,)"
            ]
          },
          "metadata": {},
          "execution_count": 11
        }
      ]
    },
    {
      "cell_type": "code",
      "source": [
        "img_r, src_r = img.reshape((int(len(img_r)/3), 3)), src.reshape((int(len(src_r)/3), 3))  # reshape immagine per avere lista univoca di colori"
      ],
      "metadata": {
        "id": "s2hGL9HWiAtA"
      },
      "execution_count": null,
      "outputs": []
    },
    {
      "cell_type": "code",
      "source": [
        "img_r.shape"
      ],
      "metadata": {
        "colab": {
          "base_uri": "https://localhost:8080/"
        },
        "id": "N7DodFRwiRAQ",
        "outputId": "0699f174-e1d5-4f76-a37e-222322715dd0"
      },
      "execution_count": null,
      "outputs": [
        {
          "output_type": "execute_result",
          "data": {
            "text/plain": [
              "(2073600, 3)"
            ]
          },
          "metadata": {},
          "execution_count": 13
        }
      ]
    },
    {
      "cell_type": "code",
      "source": [
        "src_r.shape"
      ],
      "metadata": {
        "colab": {
          "base_uri": "https://localhost:8080/"
        },
        "id": "FsymyxL9iThb",
        "outputId": "638d4ffb-9f65-45e7-d222-a05fdf7c25a3"
      },
      "execution_count": null,
      "outputs": [
        {
          "output_type": "execute_result",
          "data": {
            "text/plain": [
              "(2375100, 3)"
            ]
          },
          "metadata": {},
          "execution_count": 14
        }
      ]
    },
    {
      "cell_type": "code",
      "source": [
        "black = np.array([0,0,0]).astype(int)\n",
        "img_r_black = np.vstack((img_r,black)).astype('uint8')  # aggiungo il nero in fondo per avere tutte le corrispondenze, il nero sarà in tutte quelle zone che si sono venute a creare con la distorsione dell'immagine\n",
        "\n",
        "# \"aggiungo il nero in fondo per avere tutte le corrispondenze\" nel senso che nell'immagine tiff abbiamo del nero nello sfondo però nell'immagine orginale rettangolare non abbiamo il nero. Se aggiungiamo uan riga di nero cosi riesco a fare il match, cioè i pixel neri delle due immagini si matcheranno"
      ],
      "metadata": {
        "id": "1DG3pjyHYors"
      },
      "execution_count": null,
      "outputs": []
    },
    {
      "cell_type": "code",
      "source": [
        "img_r_black.shape"
      ],
      "metadata": {
        "colab": {
          "base_uri": "https://localhost:8080/"
        },
        "id": "w0Q-la_dlngx",
        "outputId": "41c22352-4f70-4532-fa95-be8251b34bfd"
      },
      "execution_count": null,
      "outputs": [
        {
          "output_type": "execute_result",
          "data": {
            "text/plain": [
              "(2073601, 3)"
            ]
          },
          "metadata": {},
          "execution_count": 16
        }
      ]
    },
    {
      "cell_type": "code",
      "source": [
        "src_r.shape"
      ],
      "metadata": {
        "colab": {
          "base_uri": "https://localhost:8080/"
        },
        "id": "IGTTo8Vym8zT",
        "outputId": "9c5c3679-ad60-4c87-edc9-41078b3b3fb8"
      },
      "execution_count": null,
      "outputs": [
        {
          "output_type": "execute_result",
          "data": {
            "text/plain": [
              "(2375100, 3)"
            ]
          },
          "metadata": {},
          "execution_count": 17
        }
      ]
    },
    {
      "cell_type": "code",
      "source": [
        "colors_geo_to_origin = find_rows(src_r, img_r_black)  # corrispondenza tra indice del colore nell'immagine distorta e indice nell'immagine originale, dato che avrò due matrici con elementi i valori rgb dei vari pixel che sono tutti diversi tra loro. Noi vogliamo trovare il matching tra una matrice e l'altra, quindi tra l'immagine distorta e quella non distorta\n",
        "# RISULTATO: array con numero corrispondenze = numero pixel dell'immagine distorta\n",
        "# dal momento in cui l'immagine è distorta alcuni colori che ci sono in un'immagine non esistono nell'altra o alcuni colori si presentano più di una volta -> quindi l'algo fa si che ci sia un match per i pixel che esistono in un'immagine e nell'altra no usando la tecninca del vicino più prossimo e per i pixel che si presentano più di una volta si prendono quelli con la miglior location\n",
        "print('1:ok')"
      ],
      "metadata": {
        "colab": {
          "base_uri": "https://localhost:8080/"
        },
        "id": "TUYygebdjEb3",
        "outputId": "25584ef8-4360-44e2-c6d5-8d9841a16fbe"
      },
      "execution_count": null,
      "outputs": [
        {
          "output_type": "stream",
          "name": "stdout",
          "text": [
            "1:ok\n"
          ]
        }
      ]
    },
    {
      "cell_type": "code",
      "source": [
        "src_r.shape"
      ],
      "metadata": {
        "colab": {
          "base_uri": "https://localhost:8080/"
        },
        "id": "j_j1Mi9WnQ15",
        "outputId": "b5d4ad34-9f03-432e-edc5-7de2e137ab2a"
      },
      "execution_count": null,
      "outputs": [
        {
          "output_type": "execute_result",
          "data": {
            "text/plain": [
              "(2375100, 3)"
            ]
          },
          "metadata": {},
          "execution_count": 19
        }
      ]
    },
    {
      "cell_type": "code",
      "source": [
        "img_r_black.shape"
      ],
      "metadata": {
        "colab": {
          "base_uri": "https://localhost:8080/"
        },
        "id": "-vnvCGkMnQyJ",
        "outputId": "273c8964-c377-4f15-df85-cc79bfe03f6f"
      },
      "execution_count": null,
      "outputs": [
        {
          "output_type": "execute_result",
          "data": {
            "text/plain": [
              "(2073601, 3)"
            ]
          },
          "metadata": {},
          "execution_count": 20
        }
      ]
    },
    {
      "cell_type": "code",
      "source": [
        "colors_geo_to_origin  # ma img_r_black è più piccola, come si fa ad avere un match sulla dimensione più grande\n",
        "\n",
        "# 2073600 guardando sotto forse si riferisce al nero\n",
        "# Generate a 1920 x 1080 graphic with 2,073,600 unique colours\n",
        "# quindi 2073600 è il nero"
      ],
      "metadata": {
        "colab": {
          "base_uri": "https://localhost:8080/"
        },
        "id": "qZJDN5TmnNhV",
        "outputId": "980acae0-940d-46b6-f568-4787df4637b9"
      },
      "execution_count": null,
      "outputs": [
        {
          "output_type": "execute_result",
          "data": {
            "text/plain": [
              "array([[      0, 2073600],\n",
              "       [      1, 2073600],\n",
              "       [      2, 2073600],\n",
              "       ...,\n",
              "       [2375097, 2073600],\n",
              "       [2375098, 2073600],\n",
              "       [2375099, 2073600]])"
            ]
          },
          "metadata": {},
          "execution_count": 21
        }
      ]
    },
    {
      "cell_type": "code",
      "source": [
        "colors_geo_to_origin  # prima colonna immagine distorta, questi pixel neri vengono mappati con l'ultima riga nera ggiunta di proposito nell'immagine originale rettangolare\n",
        "\n",
        "# corrispondenza pixel img originale e pixel img distorta\n",
        "\n",
        "# corrispondenza tra pixel, non siamo ancora a livello di coordinate reali"
      ],
      "metadata": {
        "colab": {
          "base_uri": "https://localhost:8080/"
        },
        "id": "oz7VD7ljtar-",
        "outputId": "8d73d743-3115-40f4-dba0-788b94b606a0"
      },
      "execution_count": null,
      "outputs": [
        {
          "output_type": "execute_result",
          "data": {
            "text/plain": [
              "array([[      0, 2073600],\n",
              "       [      1, 2073600],\n",
              "       [      2, 2073600],\n",
              "       ...,\n",
              "       [2375097, 2073600],\n",
              "       [2375098, 2073600],\n",
              "       [2375099, 2073600]])"
            ]
          },
          "metadata": {},
          "execution_count": 22
        }
      ]
    },
    {
      "cell_type": "markdown",
      "source": [
        "# 2. combino i pixel residui (senza corrispondenza) dell'immagine originale con quelli che hanno invece una corrispondenza nell'immagine distorta\n",
        "\n",
        "\n",
        "nell’immagine distorta vado a perdere delle aree quindi dei pixel dell’immagine originale non hanno una corrispondenza, li associo a quei pixel vicini che hanno una corrispondenza"
      ],
      "metadata": {
        "id": "Dv72NvOZZetm"
      }
    },
    {
      "cell_type": "code",
      "source": [
        "px, py = np.meshgrid(np.arange(img.shape[1]), np.arange(img.shape[0]))\n",
        "px, py = px.flatten(), py.flatten()\n",
        "i_array = np.vstack((px, py)).T  # creo un array 2D con gli indici dei pixel che corrispondono all'immagine originale\n",
        "\n",
        "img_rgb_idx = np.hstack((img_r, i_array))  # combino colori e indici nell'immagine originale\n",
        "index_img = np.arange(len(img_rgb_idx))\n",
        "img_rgb_idx = np.hstack((img_rgb_idx, index_img.reshape(len(img_rgb_idx),1)))\n",
        "\n",
        "matched_origin = colors_geo_to_origin[~np.any(colors_geo_to_origin == 2073600, axis=1)] # elimino indice aggiunto per mappare il nero\n",
        "matched_origin_unique = np.unique(matched_origin[:,1])  # indici originali non matchati - dovrebbero essere i pixel residui\n",
        "not_matched_origin = np.setdiff1d(index_img, matched_origin_unique)\n",
        "\n",
        "matched, not_matched = img_rgb_idx[matched_origin_unique], img_rgb_idx[not_matched_origin]\n",
        "matched_idx_or, not_matched_idx_or = matched[:,[3,4]], not_matched[:,[3,4]]\n",
        "\n",
        "nearest_points, nearest_dist = get_nearest(not_matched_idx_or, matched_idx_or, 'minkowski')  # per i punti non matchati prendo come corrispondenza il match di un punto vicino\n",
        "new_match = matched[nearest_points]  # indice delle coordinate più vicine al punto originale dove non c'è corrispondenza diretta\n",
        "sorted_unique, index_unique, inverse_unique, counts_unique = np.unique(nearest_points, axis=0, return_index=True, return_inverse=True, return_counts=True)\n",
        "all_counts = counts_unique[inverse_unique]\n",
        "print('2:ok')"
      ],
      "metadata": {
        "colab": {
          "base_uri": "https://localhost:8080/"
        },
        "id": "de4Q5g1NZTly",
        "outputId": "0cf8043d-1b81-40c0-f8af-e75d8f7c4b58"
      },
      "execution_count": null,
      "outputs": [
        {
          "output_type": "stream",
          "name": "stdout",
          "text": [
            "2:ok\n"
          ]
        }
      ]
    },
    {
      "cell_type": "markdown",
      "source": [
        "# 3. cambio il valore del pixel delle detection  (file txt delle detection di YOLO) dove non c'è corrispondenza tra immagine originale e distorta con valore nuovo sulla base di quanto trovato precedentemente\n",
        "\n",
        "ora prendendo il file delle detection, se una detection si trova in un punto che non ha corrispondenza nell’immagine distorta allora cambio il valore dei suoi pixel sulla base dei risultati precedentei. Questo perchè le detection sono su un frame la cui dimensione è esattamente quella dell'immagine originale con rumore. Quindi ogni punto sul frame ha il suo corrispondente sull'immagine originale. Quindi se una detection si trova in un punto che nell'immagine originale non ha la sua corrispondenza nell'immagine distorta allora questa detection non potrà essere georeferenziata.\n",
        "\n",
        "Infatti prima se un un pixel (dell'immagine originale con rumore) non aveva corrispondenza allora si faceva matchare con la corrispondenza del pixel più vicino a lui.\n",
        "\n",
        "Detto ciò dobbiamo cambiare le coordinate delle detection che ci sono in quei punti che non hanno corrispondenza."
      ],
      "metadata": {
        "id": "66KmVBUBZo5N"
      }
    },
    {
      "cell_type": "code",
      "source": [
        "detections[:, [2, 3]] # seleziono colonne coordinate x e y"
      ],
      "metadata": {
        "colab": {
          "base_uri": "https://localhost:8080/"
        },
        "id": "lAlgdQyTnovz",
        "outputId": "8af765e2-4f98-48df-e9a6-35aa6f43b354"
      },
      "execution_count": null,
      "outputs": [
        {
          "output_type": "execute_result",
          "data": {
            "text/plain": [
              "array([[1647. ,  950. ],\n",
              "       [1280. ,  987. ],\n",
              "       [1264. ,  986. ],\n",
              "       ...,\n",
              "       [1160. ,  657. ],\n",
              "       [1498. ,  692. ],\n",
              "       [ 781.5,  762. ]])"
            ]
          },
          "metadata": {},
          "execution_count": 24
        }
      ]
    },
    {
      "cell_type": "code",
      "source": [
        "detections[:,[0,1,4]]"
      ],
      "metadata": {
        "colab": {
          "base_uri": "https://localhost:8080/"
        },
        "id": "6OAnL46MoM3c",
        "outputId": "cc37d47f-0fd2-4cbc-c5ae-1d8c03b7f2f4"
      },
      "execution_count": null,
      "outputs": [
        {
          "output_type": "execute_result",
          "data": {
            "text/plain": [
              "array([[1.00000e+00, 0.00000e+00, 0.00000e+00],\n",
              "       [1.00000e+00, 1.00000e+00, 0.00000e+00],\n",
              "       [1.00000e+00, 2.00000e+00, 0.00000e+00],\n",
              "       ...,\n",
              "       [2.78900e+04, 2.58103e+05, 0.00000e+00],\n",
              "       [2.78900e+04, 2.58104e+05, 0.00000e+00],\n",
              "       [2.78900e+04, 2.58105e+05, 0.00000e+00]])"
            ]
          },
          "metadata": {},
          "execution_count": 25
        }
      ]
    },
    {
      "cell_type": "code",
      "source": [
        "det_points = detections[:, [2, 3]].astype(int)\n",
        "dest_near_idx, dest_near_dist = get_nearest(det_points, matched_idx_or, 'minkowski')\n",
        "dets_matched = matched_idx_or[dest_near_idx]\n",
        "detections = np.hstack((detections[:,[0,1,4]],dets_matched)).astype(int)  # metto come prime 3 colonne le restanti, quindi quelle diverse dalla colonne indicanti le coordinate\n",
        "detections\n",
        "\n",
        "# ora il file detection è stato aggiornato e i punti delle detection che non avrebbero avuto una corrispondenza ora la avranno grazie alla logica del punto vicino che ha invece corrispondenza"
      ],
      "metadata": {
        "colab": {
          "base_uri": "https://localhost:8080/"
        },
        "id": "6ptKM7f4ZToe",
        "outputId": "b4305e7c-8335-4a11-f270-1dcc68958738"
      },
      "execution_count": null,
      "outputs": [
        {
          "output_type": "execute_result",
          "data": {
            "text/plain": [
              "array([[     1,      0,      0,   1647,    949],\n",
              "       [     1,      1,      0,   1279,    988],\n",
              "       [     1,      2,      0,   1262,    987],\n",
              "       ...,\n",
              "       [ 27890, 258103,      0,   1160,    657],\n",
              "       [ 27890, 258104,      0,   1497,    692],\n",
              "       [ 27890, 258105,      0,    781,    762]])"
            ]
          },
          "metadata": {},
          "execution_count": 26
        }
      ]
    },
    {
      "cell_type": "code",
      "source": [
        "# ora tutti. i punti su cui sorgono le detection sono mappati, nel caso in cui originariamente non avevano una mappatura verranno ora mappati sul vicino che ha invece una corrispondenza"
      ],
      "metadata": {
        "id": "OH-yBBex5YSm"
      },
      "execution_count": null,
      "outputs": []
    },
    {
      "cell_type": "markdown",
      "source": [
        "# 4. trovo la corrispondenza tra detection e immagine originale\n",
        "\n"
      ],
      "metadata": {
        "id": "Rl4LlCSlZsDu"
      }
    },
    {
      "cell_type": "code",
      "source": [
        "# e trovo i famosi puntini rossi presenti sull'immagine originale piena di rumore"
      ],
      "metadata": {
        "id": "lc0aVY-Q5qGp"
      },
      "execution_count": null,
      "outputs": []
    },
    {
      "cell_type": "code",
      "source": [
        "dets_matched"
      ],
      "metadata": {
        "colab": {
          "base_uri": "https://localhost:8080/"
        },
        "id": "n5QXBftQ2Gov",
        "outputId": "a1de07f7-390d-4cf2-fff6-e641d2ee185e"
      },
      "execution_count": null,
      "outputs": [
        {
          "output_type": "execute_result",
          "data": {
            "text/plain": [
              "array([[1647,  949],\n",
              "       [1279,  988],\n",
              "       [1262,  987],\n",
              "       ...,\n",
              "       [1160,  657],\n",
              "       [1497,  692],\n",
              "       [ 781,  762]])"
            ]
          },
          "metadata": {},
          "execution_count": 27
        }
      ]
    },
    {
      "cell_type": "code",
      "source": [
        "i_array"
      ],
      "metadata": {
        "colab": {
          "base_uri": "https://localhost:8080/"
        },
        "id": "iZAwkb7Z2IR_",
        "outputId": "c69bc2ab-3f62-45cc-97e4-3322262344a9"
      },
      "execution_count": null,
      "outputs": [
        {
          "output_type": "execute_result",
          "data": {
            "text/plain": [
              "array([[   0,    0],\n",
              "       [   1,    0],\n",
              "       [   2,    0],\n",
              "       ...,\n",
              "       [1917, 1079],\n",
              "       [1918, 1079],\n",
              "       [1919, 1079]])"
            ]
          },
          "metadata": {},
          "execution_count": 28
        }
      ]
    },
    {
      "cell_type": "code",
      "source": [
        "index_dets_to_origin = find_rows(dets_matched, i_array)  # trovo la corrispondenza di ogni detection con l'indice originale per poter ritrasporre in 3d\n",
        "# RISULTATO: array con numero corrispondenze = numero di detections\n",
        "print('4:ok')"
      ],
      "metadata": {
        "colab": {
          "base_uri": "https://localhost:8080/"
        },
        "id": "BH_Cy1nGZTsx",
        "outputId": "555e4e0c-7c56-49b5-94bb-4fe891fe952b"
      },
      "execution_count": null,
      "outputs": [
        {
          "output_type": "stream",
          "name": "stdout",
          "text": [
            "4:ok\n"
          ]
        }
      ]
    },
    {
      "cell_type": "code",
      "source": [
        "index_dets_to_origin"
      ],
      "metadata": {
        "colab": {
          "base_uri": "https://localhost:8080/"
        },
        "id": "njWqOwgM2J0U",
        "outputId": "a8e0e827-acc5-44f0-acca-ea1796d4dc0f"
      },
      "execution_count": null,
      "outputs": [
        {
          "output_type": "execute_result",
          "data": {
            "text/plain": [
              "array([[      0, 1823727],\n",
              "       [      1, 1898239],\n",
              "       [      2, 1896302],\n",
              "       ...,\n",
              "       [9446272, 1262600],\n",
              "       [9446273, 1330137],\n",
              "       [9446274, 1463821]])"
            ]
          },
          "metadata": {},
          "execution_count": 30
        }
      ]
    },
    {
      "cell_type": "markdown",
      "source": [
        "# 5. trovo la corrispondenza tra le detections nell'immagine originale e il loro indice nell'immagine distorta\n",
        "\n",
        "una volta che tutti i punti dell’immagine originale sono mappati nell’immagine distorta\n",
        "\n",
        "dunque ora vogliamo che i puntini rossi siano visibili anche sull'immagine disorta piena di rumore"
      ],
      "metadata": {
        "id": "j3SIj4LyZwbD"
      }
    },
    {
      "cell_type": "code",
      "source": [
        "index_dets_to_origin[:,1]"
      ],
      "metadata": {
        "colab": {
          "base_uri": "https://localhost:8080/"
        },
        "id": "QGP9GgvG3oJm",
        "outputId": "6f4911b1-2493-41e1-9b5d-df847c3cba53"
      },
      "execution_count": null,
      "outputs": [
        {
          "output_type": "execute_result",
          "data": {
            "text/plain": [
              "array([1823727, 1898239, 1896302, ..., 1262600, 1330137, 1463821])"
            ]
          },
          "metadata": {},
          "execution_count": 31
        }
      ]
    },
    {
      "cell_type": "code",
      "source": [
        "colors_geo_to_origin[:,1]"
      ],
      "metadata": {
        "colab": {
          "base_uri": "https://localhost:8080/"
        },
        "id": "dgTCy9ea4Cba",
        "outputId": "3356d343-aa06-4fa5-bb6e-da4919fc48eb"
      },
      "execution_count": null,
      "outputs": [
        {
          "output_type": "execute_result",
          "data": {
            "text/plain": [
              "array([2073600, 2073600, 2073600, ..., 2073600, 2073600, 2073600])"
            ]
          },
          "metadata": {},
          "execution_count": 32
        }
      ]
    },
    {
      "cell_type": "code",
      "source": [
        "# prendo i pixel nell'immagine originale che sono stati matchati con le detection e li matcho ora con l'immagine distorta\n",
        "\n",
        "index_dets_to_geo = find_rows(index_dets_to_origin[:,1].reshape((len(index_dets_to_origin),1)), colors_geo_to_origin[:,1].reshape(len(colors_geo_to_origin),1))\n",
        "# RISULTATO: corrispondenza tra indice delle detection nell'immagine originale e indice delle detection nell'immagine distorta\n",
        "# -> visto che c'è perfetta corrispondenza tra indice dell'immagine distorta e indice array, il valore [:,1] corrisponde immediatamente all'immagine distorta\n",
        "print('5:ok')"
      ],
      "metadata": {
        "colab": {
          "base_uri": "https://localhost:8080/"
        },
        "id": "OMFbrsCcZTxv",
        "outputId": "0ba8a0bf-e577-47e6-de8d-395bacd99621"
      },
      "execution_count": null,
      "outputs": [
        {
          "output_type": "stream",
          "name": "stdout",
          "text": [
            "5:ok\n"
          ]
        }
      ]
    },
    {
      "cell_type": "code",
      "source": [
        "index_dets_to_geo"
      ],
      "metadata": {
        "colab": {
          "base_uri": "https://localhost:8080/"
        },
        "id": "flFqvnah2siP",
        "outputId": "a85f7d1b-2b71-4a4c-aaa4-1861cab434c8"
      },
      "execution_count": null,
      "outputs": [
        {
          "output_type": "execute_result",
          "data": {
            "text/plain": [
              "array([[      0, 1685027],\n",
              "       [      1, 1488458],\n",
              "       [      2, 1481439],\n",
              "       ...,\n",
              "       [9446272, 1678560],\n",
              "       [9446273, 1938165],\n",
              "       [9446274, 1228972]])"
            ]
          },
          "metadata": {},
          "execution_count": 34
        }
      ]
    },
    {
      "cell_type": "markdown",
      "source": [
        "# 6. trovo la corrispondenza tra l'indice nell'immagine distorta e la coordinata geografica\n",
        "\n",
        "qui entra in gioco l’immagine distorta con metadati geografici\n",
        "\n"
      ],
      "metadata": {
        "id": "h7iRoxzoZ1OF"
      }
    },
    {
      "cell_type": "code",
      "source": [
        "sx, sy = np.meshgrid(np.arange(src.shape[1]), np.arange(src.shape[0]))\n",
        "sx, sy = sx.flatten(), sy.flatten()\n",
        "s_array = np.vstack((sx, sy)).T\n",
        "\n",
        "dets_in_dist = s_array[index_dets_to_geo[:,1]]\n",
        "dets_in_geo = np.apply_along_axis(get_coords, 1, dets_in_dist)\n",
        "\n",
        "frame_idx = detections[index_dets_to_geo[:,0]] # filtro l'indice delle immagini\n",
        "dets_in_geo = np.hstack((frame_idx[:,[0,1,2]],dets_in_geo))\n",
        "\n",
        "df = pd.DataFrame(dets_in_geo[:, [0,1,2]].astype(int), columns=['frame','id','class'])\n",
        "\n",
        "geo_dets = gpd.GeoDataFrame(df, geometry=gpd.points_from_xy(dets_in_geo[:, 3], dets_in_geo[:, 4]), crs='EPSG:32632')\n",
        "geo_dets.to_file('detection_milan_2021-07-15_14_59_31.geojson', driver='GeoJSON')\n",
        "print('6:ok')"
      ],
      "metadata": {
        "id": "vLrxOdDwZT07",
        "colab": {
          "base_uri": "https://localhost:8080/"
        },
        "outputId": "ef0581cd-7252-4448-ba3b-90fc362266b9"
      },
      "execution_count": null,
      "outputs": [
        {
          "output_type": "stream",
          "name": "stdout",
          "text": [
            "6:ok\n"
          ]
        }
      ]
    },
    {
      "cell_type": "code",
      "source": [
        "geo_dets.head()"
      ],
      "metadata": {
        "id": "jb7rxT3YIQ82",
        "colab": {
          "base_uri": "https://localhost:8080/",
          "height": 206
        },
        "outputId": "9893a461-8393-4422-c706-f66c8cb5fc24"
      },
      "execution_count": null,
      "outputs": [
        {
          "output_type": "execute_result",
          "data": {
            "text/plain": [
              "   frame  id  class                        geometry\n",
              "0      1   0      0  POINT (514782.468 5034508.365)\n",
              "1      1   1      0  POINT (514780.687 5034524.989)\n",
              "2      1   2      0  POINT (514780.885 5034525.582)\n",
              "3      1   3      0  POINT (514798.300 5034522.020)\n",
              "4      1   4      0  POINT (514776.531 5034562.392)"
            ],
            "text/html": [
              "\n",
              "  <div id=\"df-b543d737-9c0e-40cc-88e8-6889381e65aa\">\n",
              "    <div class=\"colab-df-container\">\n",
              "      <div>\n",
              "<style scoped>\n",
              "    .dataframe tbody tr th:only-of-type {\n",
              "        vertical-align: middle;\n",
              "    }\n",
              "\n",
              "    .dataframe tbody tr th {\n",
              "        vertical-align: top;\n",
              "    }\n",
              "\n",
              "    .dataframe thead th {\n",
              "        text-align: right;\n",
              "    }\n",
              "</style>\n",
              "<table border=\"1\" class=\"dataframe\">\n",
              "  <thead>\n",
              "    <tr style=\"text-align: right;\">\n",
              "      <th></th>\n",
              "      <th>frame</th>\n",
              "      <th>id</th>\n",
              "      <th>class</th>\n",
              "      <th>geometry</th>\n",
              "    </tr>\n",
              "  </thead>\n",
              "  <tbody>\n",
              "    <tr>\n",
              "      <th>0</th>\n",
              "      <td>1</td>\n",
              "      <td>0</td>\n",
              "      <td>0</td>\n",
              "      <td>POINT (514782.468 5034508.365)</td>\n",
              "    </tr>\n",
              "    <tr>\n",
              "      <th>1</th>\n",
              "      <td>1</td>\n",
              "      <td>1</td>\n",
              "      <td>0</td>\n",
              "      <td>POINT (514780.687 5034524.989)</td>\n",
              "    </tr>\n",
              "    <tr>\n",
              "      <th>2</th>\n",
              "      <td>1</td>\n",
              "      <td>2</td>\n",
              "      <td>0</td>\n",
              "      <td>POINT (514780.885 5034525.582)</td>\n",
              "    </tr>\n",
              "    <tr>\n",
              "      <th>3</th>\n",
              "      <td>1</td>\n",
              "      <td>3</td>\n",
              "      <td>0</td>\n",
              "      <td>POINT (514798.300 5034522.020)</td>\n",
              "    </tr>\n",
              "    <tr>\n",
              "      <th>4</th>\n",
              "      <td>1</td>\n",
              "      <td>4</td>\n",
              "      <td>0</td>\n",
              "      <td>POINT (514776.531 5034562.392)</td>\n",
              "    </tr>\n",
              "  </tbody>\n",
              "</table>\n",
              "</div>\n",
              "      <button class=\"colab-df-convert\" onclick=\"convertToInteractive('df-b543d737-9c0e-40cc-88e8-6889381e65aa')\"\n",
              "              title=\"Convert this dataframe to an interactive table.\"\n",
              "              style=\"display:none;\">\n",
              "        \n",
              "  <svg xmlns=\"http://www.w3.org/2000/svg\" height=\"24px\"viewBox=\"0 0 24 24\"\n",
              "       width=\"24px\">\n",
              "    <path d=\"M0 0h24v24H0V0z\" fill=\"none\"/>\n",
              "    <path d=\"M18.56 5.44l.94 2.06.94-2.06 2.06-.94-2.06-.94-.94-2.06-.94 2.06-2.06.94zm-11 1L8.5 8.5l.94-2.06 2.06-.94-2.06-.94L8.5 2.5l-.94 2.06-2.06.94zm10 10l.94 2.06.94-2.06 2.06-.94-2.06-.94-.94-2.06-.94 2.06-2.06.94z\"/><path d=\"M17.41 7.96l-1.37-1.37c-.4-.4-.92-.59-1.43-.59-.52 0-1.04.2-1.43.59L10.3 9.45l-7.72 7.72c-.78.78-.78 2.05 0 2.83L4 21.41c.39.39.9.59 1.41.59.51 0 1.02-.2 1.41-.59l7.78-7.78 2.81-2.81c.8-.78.8-2.07 0-2.86zM5.41 20L4 18.59l7.72-7.72 1.47 1.35L5.41 20z\"/>\n",
              "  </svg>\n",
              "      </button>\n",
              "      \n",
              "  <style>\n",
              "    .colab-df-container {\n",
              "      display:flex;\n",
              "      flex-wrap:wrap;\n",
              "      gap: 12px;\n",
              "    }\n",
              "\n",
              "    .colab-df-convert {\n",
              "      background-color: #E8F0FE;\n",
              "      border: none;\n",
              "      border-radius: 50%;\n",
              "      cursor: pointer;\n",
              "      display: none;\n",
              "      fill: #1967D2;\n",
              "      height: 32px;\n",
              "      padding: 0 0 0 0;\n",
              "      width: 32px;\n",
              "    }\n",
              "\n",
              "    .colab-df-convert:hover {\n",
              "      background-color: #E2EBFA;\n",
              "      box-shadow: 0px 1px 2px rgba(60, 64, 67, 0.3), 0px 1px 3px 1px rgba(60, 64, 67, 0.15);\n",
              "      fill: #174EA6;\n",
              "    }\n",
              "\n",
              "    [theme=dark] .colab-df-convert {\n",
              "      background-color: #3B4455;\n",
              "      fill: #D2E3FC;\n",
              "    }\n",
              "\n",
              "    [theme=dark] .colab-df-convert:hover {\n",
              "      background-color: #434B5C;\n",
              "      box-shadow: 0px 1px 3px 1px rgba(0, 0, 0, 0.15);\n",
              "      filter: drop-shadow(0px 1px 2px rgba(0, 0, 0, 0.3));\n",
              "      fill: #FFFFFF;\n",
              "    }\n",
              "  </style>\n",
              "\n",
              "      <script>\n",
              "        const buttonEl =\n",
              "          document.querySelector('#df-b543d737-9c0e-40cc-88e8-6889381e65aa button.colab-df-convert');\n",
              "        buttonEl.style.display =\n",
              "          google.colab.kernel.accessAllowed ? 'block' : 'none';\n",
              "\n",
              "        async function convertToInteractive(key) {\n",
              "          const element = document.querySelector('#df-b543d737-9c0e-40cc-88e8-6889381e65aa');\n",
              "          const dataTable =\n",
              "            await google.colab.kernel.invokeFunction('convertToInteractive',\n",
              "                                                     [key], {});\n",
              "          if (!dataTable) return;\n",
              "\n",
              "          const docLinkHtml = 'Like what you see? Visit the ' +\n",
              "            '<a target=\"_blank\" href=https://colab.research.google.com/notebooks/data_table.ipynb>data table notebook</a>'\n",
              "            + ' to learn more about interactive tables.';\n",
              "          element.innerHTML = '';\n",
              "          dataTable['output_type'] = 'display_data';\n",
              "          await google.colab.output.renderOutput(dataTable, element);\n",
              "          const docLink = document.createElement('div');\n",
              "          docLink.innerHTML = docLinkHtml;\n",
              "          element.appendChild(docLink);\n",
              "        }\n",
              "      </script>\n",
              "    </div>\n",
              "  </div>\n",
              "  "
            ]
          },
          "metadata": {},
          "execution_count": 36
        }
      ]
    },
    {
      "cell_type": "code",
      "source": [
        "!cp /content/detection_milan_2021-07-15_14_59_31.geojson /content/drive/MyDrive"
      ],
      "metadata": {
        "id": "eKdUOCDWwH42"
      },
      "execution_count": null,
      "outputs": []
    },
    {
      "cell_type": "markdown",
      "source": [
        "in questo modo dovrei aver georeferenziato tutte le mie detection, basta che trascino il file .geojson su qgis con la mappa aperta e tutto!"
      ],
      "metadata": {
        "id": "z71ojK4D_K9_"
      }
    },
    {
      "cell_type": "markdown",
      "source": [
        "# 7. arricchimento dataset"
      ],
      "metadata": {
        "id": "P6Sh52dSX8DU"
      }
    },
    {
      "cell_type": "code",
      "source": [
        "# dataset ottenuto\n",
        "geo_dets.head()\n",
        "\n",
        "# ora voglio aggiungere un campo data con l'orario relativo al singolo frame"
      ],
      "metadata": {
        "id": "jYDxvWPgYAMm",
        "colab": {
          "base_uri": "https://localhost:8080/",
          "height": 206
        },
        "outputId": "f29f4151-6f65-4189-eb25-e52dafe1c683"
      },
      "execution_count": null,
      "outputs": [
        {
          "output_type": "execute_result",
          "data": {
            "text/plain": [
              "   frame  id  class                        geometry\n",
              "0      1   0      0  POINT (514782.468 5034508.365)\n",
              "1      1   1      0  POINT (514780.687 5034524.989)\n",
              "2      1   2      0  POINT (514780.885 5034525.582)\n",
              "3      1   3      0  POINT (514798.300 5034522.020)\n",
              "4      1   4      0  POINT (514776.531 5034562.392)"
            ],
            "text/html": [
              "\n",
              "  <div id=\"df-8a9dc808-ee17-483f-868e-89b39b3c46d5\">\n",
              "    <div class=\"colab-df-container\">\n",
              "      <div>\n",
              "<style scoped>\n",
              "    .dataframe tbody tr th:only-of-type {\n",
              "        vertical-align: middle;\n",
              "    }\n",
              "\n",
              "    .dataframe tbody tr th {\n",
              "        vertical-align: top;\n",
              "    }\n",
              "\n",
              "    .dataframe thead th {\n",
              "        text-align: right;\n",
              "    }\n",
              "</style>\n",
              "<table border=\"1\" class=\"dataframe\">\n",
              "  <thead>\n",
              "    <tr style=\"text-align: right;\">\n",
              "      <th></th>\n",
              "      <th>frame</th>\n",
              "      <th>id</th>\n",
              "      <th>class</th>\n",
              "      <th>geometry</th>\n",
              "    </tr>\n",
              "  </thead>\n",
              "  <tbody>\n",
              "    <tr>\n",
              "      <th>0</th>\n",
              "      <td>1</td>\n",
              "      <td>0</td>\n",
              "      <td>0</td>\n",
              "      <td>POINT (514782.468 5034508.365)</td>\n",
              "    </tr>\n",
              "    <tr>\n",
              "      <th>1</th>\n",
              "      <td>1</td>\n",
              "      <td>1</td>\n",
              "      <td>0</td>\n",
              "      <td>POINT (514780.687 5034524.989)</td>\n",
              "    </tr>\n",
              "    <tr>\n",
              "      <th>2</th>\n",
              "      <td>1</td>\n",
              "      <td>2</td>\n",
              "      <td>0</td>\n",
              "      <td>POINT (514780.885 5034525.582)</td>\n",
              "    </tr>\n",
              "    <tr>\n",
              "      <th>3</th>\n",
              "      <td>1</td>\n",
              "      <td>3</td>\n",
              "      <td>0</td>\n",
              "      <td>POINT (514798.300 5034522.020)</td>\n",
              "    </tr>\n",
              "    <tr>\n",
              "      <th>4</th>\n",
              "      <td>1</td>\n",
              "      <td>4</td>\n",
              "      <td>0</td>\n",
              "      <td>POINT (514776.531 5034562.392)</td>\n",
              "    </tr>\n",
              "  </tbody>\n",
              "</table>\n",
              "</div>\n",
              "      <button class=\"colab-df-convert\" onclick=\"convertToInteractive('df-8a9dc808-ee17-483f-868e-89b39b3c46d5')\"\n",
              "              title=\"Convert this dataframe to an interactive table.\"\n",
              "              style=\"display:none;\">\n",
              "        \n",
              "  <svg xmlns=\"http://www.w3.org/2000/svg\" height=\"24px\"viewBox=\"0 0 24 24\"\n",
              "       width=\"24px\">\n",
              "    <path d=\"M0 0h24v24H0V0z\" fill=\"none\"/>\n",
              "    <path d=\"M18.56 5.44l.94 2.06.94-2.06 2.06-.94-2.06-.94-.94-2.06-.94 2.06-2.06.94zm-11 1L8.5 8.5l.94-2.06 2.06-.94-2.06-.94L8.5 2.5l-.94 2.06-2.06.94zm10 10l.94 2.06.94-2.06 2.06-.94-2.06-.94-.94-2.06-.94 2.06-2.06.94z\"/><path d=\"M17.41 7.96l-1.37-1.37c-.4-.4-.92-.59-1.43-.59-.52 0-1.04.2-1.43.59L10.3 9.45l-7.72 7.72c-.78.78-.78 2.05 0 2.83L4 21.41c.39.39.9.59 1.41.59.51 0 1.02-.2 1.41-.59l7.78-7.78 2.81-2.81c.8-.78.8-2.07 0-2.86zM5.41 20L4 18.59l7.72-7.72 1.47 1.35L5.41 20z\"/>\n",
              "  </svg>\n",
              "      </button>\n",
              "      \n",
              "  <style>\n",
              "    .colab-df-container {\n",
              "      display:flex;\n",
              "      flex-wrap:wrap;\n",
              "      gap: 12px;\n",
              "    }\n",
              "\n",
              "    .colab-df-convert {\n",
              "      background-color: #E8F0FE;\n",
              "      border: none;\n",
              "      border-radius: 50%;\n",
              "      cursor: pointer;\n",
              "      display: none;\n",
              "      fill: #1967D2;\n",
              "      height: 32px;\n",
              "      padding: 0 0 0 0;\n",
              "      width: 32px;\n",
              "    }\n",
              "\n",
              "    .colab-df-convert:hover {\n",
              "      background-color: #E2EBFA;\n",
              "      box-shadow: 0px 1px 2px rgba(60, 64, 67, 0.3), 0px 1px 3px 1px rgba(60, 64, 67, 0.15);\n",
              "      fill: #174EA6;\n",
              "    }\n",
              "\n",
              "    [theme=dark] .colab-df-convert {\n",
              "      background-color: #3B4455;\n",
              "      fill: #D2E3FC;\n",
              "    }\n",
              "\n",
              "    [theme=dark] .colab-df-convert:hover {\n",
              "      background-color: #434B5C;\n",
              "      box-shadow: 0px 1px 3px 1px rgba(0, 0, 0, 0.15);\n",
              "      filter: drop-shadow(0px 1px 2px rgba(0, 0, 0, 0.3));\n",
              "      fill: #FFFFFF;\n",
              "    }\n",
              "  </style>\n",
              "\n",
              "      <script>\n",
              "        const buttonEl =\n",
              "          document.querySelector('#df-8a9dc808-ee17-483f-868e-89b39b3c46d5 button.colab-df-convert');\n",
              "        buttonEl.style.display =\n",
              "          google.colab.kernel.accessAllowed ? 'block' : 'none';\n",
              "\n",
              "        async function convertToInteractive(key) {\n",
              "          const element = document.querySelector('#df-8a9dc808-ee17-483f-868e-89b39b3c46d5');\n",
              "          const dataTable =\n",
              "            await google.colab.kernel.invokeFunction('convertToInteractive',\n",
              "                                                     [key], {});\n",
              "          if (!dataTable) return;\n",
              "\n",
              "          const docLinkHtml = 'Like what you see? Visit the ' +\n",
              "            '<a target=\"_blank\" href=https://colab.research.google.com/notebooks/data_table.ipynb>data table notebook</a>'\n",
              "            + ' to learn more about interactive tables.';\n",
              "          element.innerHTML = '';\n",
              "          dataTable['output_type'] = 'display_data';\n",
              "          await google.colab.output.renderOutput(dataTable, element);\n",
              "          const docLink = document.createElement('div');\n",
              "          docLink.innerHTML = docLinkHtml;\n",
              "          element.appendChild(docLink);\n",
              "        }\n",
              "      </script>\n",
              "    </div>\n",
              "  </div>\n",
              "  "
            ]
          },
          "metadata": {},
          "execution_count": 38
        }
      ]
    },
    {
      "cell_type": "code",
      "source": [
        "geo_dets\n",
        "# numero frame: 1979"
      ],
      "metadata": {
        "id": "MKhucG6KYh9M",
        "colab": {
          "base_uri": "https://localhost:8080/",
          "height": 424
        },
        "outputId": "a40f6156-fc7e-4cc1-9de7-cd572a5ac401"
      },
      "execution_count": null,
      "outputs": [
        {
          "output_type": "execute_result",
          "data": {
            "text/plain": [
              "         frame      id  class                        geometry\n",
              "0            1       0      0  POINT (514782.468 5034508.365)\n",
              "1            1       1      0  POINT (514780.687 5034524.989)\n",
              "2            1       2      0  POINT (514780.885 5034525.582)\n",
              "3            1       3      0  POINT (514798.300 5034522.020)\n",
              "4            1       4      0  POINT (514776.531 5034562.392)\n",
              "...        ...     ...    ...                             ...\n",
              "9446270  27890  258101      0  POINT (514785.041 5034554.476)\n",
              "9446271  27890  258102      0  POINT (514837.683 5034486.200)\n",
              "9446272  27890  258103      0  POINT (514891.908 5034508.959)\n",
              "9446273  27890  258104      0  POINT (514865.191 5034486.992)\n",
              "9446274  27890  258105      0  POINT (514830.954 5034546.956)\n",
              "\n",
              "[9446275 rows x 4 columns]"
            ],
            "text/html": [
              "\n",
              "  <div id=\"df-517816ab-ed58-48f0-867f-408496a6d17b\">\n",
              "    <div class=\"colab-df-container\">\n",
              "      <div>\n",
              "<style scoped>\n",
              "    .dataframe tbody tr th:only-of-type {\n",
              "        vertical-align: middle;\n",
              "    }\n",
              "\n",
              "    .dataframe tbody tr th {\n",
              "        vertical-align: top;\n",
              "    }\n",
              "\n",
              "    .dataframe thead th {\n",
              "        text-align: right;\n",
              "    }\n",
              "</style>\n",
              "<table border=\"1\" class=\"dataframe\">\n",
              "  <thead>\n",
              "    <tr style=\"text-align: right;\">\n",
              "      <th></th>\n",
              "      <th>frame</th>\n",
              "      <th>id</th>\n",
              "      <th>class</th>\n",
              "      <th>geometry</th>\n",
              "    </tr>\n",
              "  </thead>\n",
              "  <tbody>\n",
              "    <tr>\n",
              "      <th>0</th>\n",
              "      <td>1</td>\n",
              "      <td>0</td>\n",
              "      <td>0</td>\n",
              "      <td>POINT (514782.468 5034508.365)</td>\n",
              "    </tr>\n",
              "    <tr>\n",
              "      <th>1</th>\n",
              "      <td>1</td>\n",
              "      <td>1</td>\n",
              "      <td>0</td>\n",
              "      <td>POINT (514780.687 5034524.989)</td>\n",
              "    </tr>\n",
              "    <tr>\n",
              "      <th>2</th>\n",
              "      <td>1</td>\n",
              "      <td>2</td>\n",
              "      <td>0</td>\n",
              "      <td>POINT (514780.885 5034525.582)</td>\n",
              "    </tr>\n",
              "    <tr>\n",
              "      <th>3</th>\n",
              "      <td>1</td>\n",
              "      <td>3</td>\n",
              "      <td>0</td>\n",
              "      <td>POINT (514798.300 5034522.020)</td>\n",
              "    </tr>\n",
              "    <tr>\n",
              "      <th>4</th>\n",
              "      <td>1</td>\n",
              "      <td>4</td>\n",
              "      <td>0</td>\n",
              "      <td>POINT (514776.531 5034562.392)</td>\n",
              "    </tr>\n",
              "    <tr>\n",
              "      <th>...</th>\n",
              "      <td>...</td>\n",
              "      <td>...</td>\n",
              "      <td>...</td>\n",
              "      <td>...</td>\n",
              "    </tr>\n",
              "    <tr>\n",
              "      <th>9446270</th>\n",
              "      <td>27890</td>\n",
              "      <td>258101</td>\n",
              "      <td>0</td>\n",
              "      <td>POINT (514785.041 5034554.476)</td>\n",
              "    </tr>\n",
              "    <tr>\n",
              "      <th>9446271</th>\n",
              "      <td>27890</td>\n",
              "      <td>258102</td>\n",
              "      <td>0</td>\n",
              "      <td>POINT (514837.683 5034486.200)</td>\n",
              "    </tr>\n",
              "    <tr>\n",
              "      <th>9446272</th>\n",
              "      <td>27890</td>\n",
              "      <td>258103</td>\n",
              "      <td>0</td>\n",
              "      <td>POINT (514891.908 5034508.959)</td>\n",
              "    </tr>\n",
              "    <tr>\n",
              "      <th>9446273</th>\n",
              "      <td>27890</td>\n",
              "      <td>258104</td>\n",
              "      <td>0</td>\n",
              "      <td>POINT (514865.191 5034486.992)</td>\n",
              "    </tr>\n",
              "    <tr>\n",
              "      <th>9446274</th>\n",
              "      <td>27890</td>\n",
              "      <td>258105</td>\n",
              "      <td>0</td>\n",
              "      <td>POINT (514830.954 5034546.956)</td>\n",
              "    </tr>\n",
              "  </tbody>\n",
              "</table>\n",
              "<p>9446275 rows × 4 columns</p>\n",
              "</div>\n",
              "      <button class=\"colab-df-convert\" onclick=\"convertToInteractive('df-517816ab-ed58-48f0-867f-408496a6d17b')\"\n",
              "              title=\"Convert this dataframe to an interactive table.\"\n",
              "              style=\"display:none;\">\n",
              "        \n",
              "  <svg xmlns=\"http://www.w3.org/2000/svg\" height=\"24px\"viewBox=\"0 0 24 24\"\n",
              "       width=\"24px\">\n",
              "    <path d=\"M0 0h24v24H0V0z\" fill=\"none\"/>\n",
              "    <path d=\"M18.56 5.44l.94 2.06.94-2.06 2.06-.94-2.06-.94-.94-2.06-.94 2.06-2.06.94zm-11 1L8.5 8.5l.94-2.06 2.06-.94-2.06-.94L8.5 2.5l-.94 2.06-2.06.94zm10 10l.94 2.06.94-2.06 2.06-.94-2.06-.94-.94-2.06-.94 2.06-2.06.94z\"/><path d=\"M17.41 7.96l-1.37-1.37c-.4-.4-.92-.59-1.43-.59-.52 0-1.04.2-1.43.59L10.3 9.45l-7.72 7.72c-.78.78-.78 2.05 0 2.83L4 21.41c.39.39.9.59 1.41.59.51 0 1.02-.2 1.41-.59l7.78-7.78 2.81-2.81c.8-.78.8-2.07 0-2.86zM5.41 20L4 18.59l7.72-7.72 1.47 1.35L5.41 20z\"/>\n",
              "  </svg>\n",
              "      </button>\n",
              "      \n",
              "  <style>\n",
              "    .colab-df-container {\n",
              "      display:flex;\n",
              "      flex-wrap:wrap;\n",
              "      gap: 12px;\n",
              "    }\n",
              "\n",
              "    .colab-df-convert {\n",
              "      background-color: #E8F0FE;\n",
              "      border: none;\n",
              "      border-radius: 50%;\n",
              "      cursor: pointer;\n",
              "      display: none;\n",
              "      fill: #1967D2;\n",
              "      height: 32px;\n",
              "      padding: 0 0 0 0;\n",
              "      width: 32px;\n",
              "    }\n",
              "\n",
              "    .colab-df-convert:hover {\n",
              "      background-color: #E2EBFA;\n",
              "      box-shadow: 0px 1px 2px rgba(60, 64, 67, 0.3), 0px 1px 3px 1px rgba(60, 64, 67, 0.15);\n",
              "      fill: #174EA6;\n",
              "    }\n",
              "\n",
              "    [theme=dark] .colab-df-convert {\n",
              "      background-color: #3B4455;\n",
              "      fill: #D2E3FC;\n",
              "    }\n",
              "\n",
              "    [theme=dark] .colab-df-convert:hover {\n",
              "      background-color: #434B5C;\n",
              "      box-shadow: 0px 1px 3px 1px rgba(0, 0, 0, 0.15);\n",
              "      filter: drop-shadow(0px 1px 2px rgba(0, 0, 0, 0.3));\n",
              "      fill: #FFFFFF;\n",
              "    }\n",
              "  </style>\n",
              "\n",
              "      <script>\n",
              "        const buttonEl =\n",
              "          document.querySelector('#df-517816ab-ed58-48f0-867f-408496a6d17b button.colab-df-convert');\n",
              "        buttonEl.style.display =\n",
              "          google.colab.kernel.accessAllowed ? 'block' : 'none';\n",
              "\n",
              "        async function convertToInteractive(key) {\n",
              "          const element = document.querySelector('#df-517816ab-ed58-48f0-867f-408496a6d17b');\n",
              "          const dataTable =\n",
              "            await google.colab.kernel.invokeFunction('convertToInteractive',\n",
              "                                                     [key], {});\n",
              "          if (!dataTable) return;\n",
              "\n",
              "          const docLinkHtml = 'Like what you see? Visit the ' +\n",
              "            '<a target=\"_blank\" href=https://colab.research.google.com/notebooks/data_table.ipynb>data table notebook</a>'\n",
              "            + ' to learn more about interactive tables.';\n",
              "          element.innerHTML = '';\n",
              "          dataTable['output_type'] = 'display_data';\n",
              "          await google.colab.output.renderOutput(dataTable, element);\n",
              "          const docLink = document.createElement('div');\n",
              "          docLink.innerHTML = docLinkHtml;\n",
              "          element.appendChild(docLink);\n",
              "        }\n",
              "      </script>\n",
              "    </div>\n",
              "  </div>\n",
              "  "
            ]
          },
          "metadata": {},
          "execution_count": 39
        }
      ]
    },
    {
      "cell_type": "code",
      "source": [
        "# in un secondo abbiamo 15 frames\n",
        "# dunque avremo dovremo dividere un secondo in circa 15 parti, ognuna delle quali corrisponde ad un frame\n",
        "\n",
        "START_DATETIME = '2021-07-15 14:59:31.0'  # <----------------- da cambiare a seconda del video\n",
        "NUM_PERIODS = geo_dets['frame'].max()\n",
        "\n",
        "time_data = pd.date_range(START_DATETIME, periods = NUM_PERIODS, freq='70ms') \n",
        "\n",
        "list2020 = []\n",
        "for i in time_data:\n",
        "  list2020.append(i.strftime('%Y-%m-%d %H:%M:%S.%f'))\n",
        "list2020\n",
        "len(list2020)\n",
        "\n",
        "# otteniamo una lista di orari di numero pari al numero di frame"
      ],
      "metadata": {
        "id": "KeDzaomUYAKJ",
        "colab": {
          "base_uri": "https://localhost:8080/"
        },
        "outputId": "2b37e5f3-0096-4494-f3e6-164c3e32cdaa"
      },
      "execution_count": null,
      "outputs": [
        {
          "output_type": "execute_result",
          "data": {
            "text/plain": [
              "27890"
            ]
          },
          "metadata": {},
          "execution_count": 40
        }
      ]
    },
    {
      "cell_type": "code",
      "source": [
        "x = [*range(1, geo_dets['frame'].max()+1, 1)]\n",
        "len(x)"
      ],
      "metadata": {
        "colab": {
          "base_uri": "https://localhost:8080/"
        },
        "id": "twmS43kA5zkE",
        "outputId": "6bae43d8-6c6e-4820-c7ec-db5f1ec8cda5"
      },
      "execution_count": null,
      "outputs": [
        {
          "output_type": "execute_result",
          "data": {
            "text/plain": [
              "27890"
            ]
          },
          "metadata": {},
          "execution_count": 41
        }
      ]
    },
    {
      "cell_type": "code",
      "source": [
        "df_time = pd.DataFrame()\n",
        "df_time['time'] = list2020\n",
        "df_time['frame'] = [*range(1, geo_dets['frame'].max()+1, 1)]  # per video di 30 min\n",
        "df_time.tail()\n",
        "\n",
        "# il campo frame deve fare join con il campo frame del dataset df che abbiamo calcolato con questo script in modo da associare ad ogni frame il suo orario specifico"
      ],
      "metadata": {
        "id": "bHGCFEcIYAH5",
        "colab": {
          "base_uri": "https://localhost:8080/",
          "height": 206
        },
        "outputId": "c997429d-eee0-4dd7-cc69-f1769f34ef02"
      },
      "execution_count": null,
      "outputs": [
        {
          "output_type": "execute_result",
          "data": {
            "text/plain": [
              "                             time  frame\n",
              "27885  2021-07-15 15:32:02.950000  27886\n",
              "27886  2021-07-15 15:32:03.020000  27887\n",
              "27887  2021-07-15 15:32:03.090000  27888\n",
              "27888  2021-07-15 15:32:03.160000  27889\n",
              "27889  2021-07-15 15:32:03.230000  27890"
            ],
            "text/html": [
              "\n",
              "  <div id=\"df-28928d53-e3d8-49eb-8b04-10e298dec525\">\n",
              "    <div class=\"colab-df-container\">\n",
              "      <div>\n",
              "<style scoped>\n",
              "    .dataframe tbody tr th:only-of-type {\n",
              "        vertical-align: middle;\n",
              "    }\n",
              "\n",
              "    .dataframe tbody tr th {\n",
              "        vertical-align: top;\n",
              "    }\n",
              "\n",
              "    .dataframe thead th {\n",
              "        text-align: right;\n",
              "    }\n",
              "</style>\n",
              "<table border=\"1\" class=\"dataframe\">\n",
              "  <thead>\n",
              "    <tr style=\"text-align: right;\">\n",
              "      <th></th>\n",
              "      <th>time</th>\n",
              "      <th>frame</th>\n",
              "    </tr>\n",
              "  </thead>\n",
              "  <tbody>\n",
              "    <tr>\n",
              "      <th>27885</th>\n",
              "      <td>2021-07-15 15:32:02.950000</td>\n",
              "      <td>27886</td>\n",
              "    </tr>\n",
              "    <tr>\n",
              "      <th>27886</th>\n",
              "      <td>2021-07-15 15:32:03.020000</td>\n",
              "      <td>27887</td>\n",
              "    </tr>\n",
              "    <tr>\n",
              "      <th>27887</th>\n",
              "      <td>2021-07-15 15:32:03.090000</td>\n",
              "      <td>27888</td>\n",
              "    </tr>\n",
              "    <tr>\n",
              "      <th>27888</th>\n",
              "      <td>2021-07-15 15:32:03.160000</td>\n",
              "      <td>27889</td>\n",
              "    </tr>\n",
              "    <tr>\n",
              "      <th>27889</th>\n",
              "      <td>2021-07-15 15:32:03.230000</td>\n",
              "      <td>27890</td>\n",
              "    </tr>\n",
              "  </tbody>\n",
              "</table>\n",
              "</div>\n",
              "      <button class=\"colab-df-convert\" onclick=\"convertToInteractive('df-28928d53-e3d8-49eb-8b04-10e298dec525')\"\n",
              "              title=\"Convert this dataframe to an interactive table.\"\n",
              "              style=\"display:none;\">\n",
              "        \n",
              "  <svg xmlns=\"http://www.w3.org/2000/svg\" height=\"24px\"viewBox=\"0 0 24 24\"\n",
              "       width=\"24px\">\n",
              "    <path d=\"M0 0h24v24H0V0z\" fill=\"none\"/>\n",
              "    <path d=\"M18.56 5.44l.94 2.06.94-2.06 2.06-.94-2.06-.94-.94-2.06-.94 2.06-2.06.94zm-11 1L8.5 8.5l.94-2.06 2.06-.94-2.06-.94L8.5 2.5l-.94 2.06-2.06.94zm10 10l.94 2.06.94-2.06 2.06-.94-2.06-.94-.94-2.06-.94 2.06-2.06.94z\"/><path d=\"M17.41 7.96l-1.37-1.37c-.4-.4-.92-.59-1.43-.59-.52 0-1.04.2-1.43.59L10.3 9.45l-7.72 7.72c-.78.78-.78 2.05 0 2.83L4 21.41c.39.39.9.59 1.41.59.51 0 1.02-.2 1.41-.59l7.78-7.78 2.81-2.81c.8-.78.8-2.07 0-2.86zM5.41 20L4 18.59l7.72-7.72 1.47 1.35L5.41 20z\"/>\n",
              "  </svg>\n",
              "      </button>\n",
              "      \n",
              "  <style>\n",
              "    .colab-df-container {\n",
              "      display:flex;\n",
              "      flex-wrap:wrap;\n",
              "      gap: 12px;\n",
              "    }\n",
              "\n",
              "    .colab-df-convert {\n",
              "      background-color: #E8F0FE;\n",
              "      border: none;\n",
              "      border-radius: 50%;\n",
              "      cursor: pointer;\n",
              "      display: none;\n",
              "      fill: #1967D2;\n",
              "      height: 32px;\n",
              "      padding: 0 0 0 0;\n",
              "      width: 32px;\n",
              "    }\n",
              "\n",
              "    .colab-df-convert:hover {\n",
              "      background-color: #E2EBFA;\n",
              "      box-shadow: 0px 1px 2px rgba(60, 64, 67, 0.3), 0px 1px 3px 1px rgba(60, 64, 67, 0.15);\n",
              "      fill: #174EA6;\n",
              "    }\n",
              "\n",
              "    [theme=dark] .colab-df-convert {\n",
              "      background-color: #3B4455;\n",
              "      fill: #D2E3FC;\n",
              "    }\n",
              "\n",
              "    [theme=dark] .colab-df-convert:hover {\n",
              "      background-color: #434B5C;\n",
              "      box-shadow: 0px 1px 3px 1px rgba(0, 0, 0, 0.15);\n",
              "      filter: drop-shadow(0px 1px 2px rgba(0, 0, 0, 0.3));\n",
              "      fill: #FFFFFF;\n",
              "    }\n",
              "  </style>\n",
              "\n",
              "      <script>\n",
              "        const buttonEl =\n",
              "          document.querySelector('#df-28928d53-e3d8-49eb-8b04-10e298dec525 button.colab-df-convert');\n",
              "        buttonEl.style.display =\n",
              "          google.colab.kernel.accessAllowed ? 'block' : 'none';\n",
              "\n",
              "        async function convertToInteractive(key) {\n",
              "          const element = document.querySelector('#df-28928d53-e3d8-49eb-8b04-10e298dec525');\n",
              "          const dataTable =\n",
              "            await google.colab.kernel.invokeFunction('convertToInteractive',\n",
              "                                                     [key], {});\n",
              "          if (!dataTable) return;\n",
              "\n",
              "          const docLinkHtml = 'Like what you see? Visit the ' +\n",
              "            '<a target=\"_blank\" href=https://colab.research.google.com/notebooks/data_table.ipynb>data table notebook</a>'\n",
              "            + ' to learn more about interactive tables.';\n",
              "          element.innerHTML = '';\n",
              "          dataTable['output_type'] = 'display_data';\n",
              "          await google.colab.output.renderOutput(dataTable, element);\n",
              "          const docLink = document.createElement('div');\n",
              "          docLink.innerHTML = docLinkHtml;\n",
              "          element.appendChild(docLink);\n",
              "        }\n",
              "      </script>\n",
              "    </div>\n",
              "  </div>\n",
              "  "
            ]
          },
          "metadata": {},
          "execution_count": 42
        }
      ]
    },
    {
      "cell_type": "code",
      "source": [
        "# questo è il dataset finale\n",
        "inner_merged_total = pd.merge(geo_dets, df_time, on=[\"frame\"])\n",
        "inner_merged_total.head()"
      ],
      "metadata": {
        "id": "ULvLQHmBYAFw",
        "colab": {
          "base_uri": "https://localhost:8080/",
          "height": 206
        },
        "outputId": "a4c7e5c0-e6f8-483d-f0d3-37d45bd9df83"
      },
      "execution_count": null,
      "outputs": [
        {
          "output_type": "execute_result",
          "data": {
            "text/plain": [
              "   frame  id  class                        geometry  \\\n",
              "0      1   0      0  POINT (514782.468 5034508.365)   \n",
              "1      1   1      0  POINT (514780.687 5034524.989)   \n",
              "2      1   2      0  POINT (514780.885 5034525.582)   \n",
              "3      1   3      0  POINT (514798.300 5034522.020)   \n",
              "4      1   4      0  POINT (514776.531 5034562.392)   \n",
              "\n",
              "                         time  \n",
              "0  2021-07-15 14:59:31.000000  \n",
              "1  2021-07-15 14:59:31.000000  \n",
              "2  2021-07-15 14:59:31.000000  \n",
              "3  2021-07-15 14:59:31.000000  \n",
              "4  2021-07-15 14:59:31.000000  "
            ],
            "text/html": [
              "\n",
              "  <div id=\"df-0f68fa93-f597-495e-95a8-5b587a823239\">\n",
              "    <div class=\"colab-df-container\">\n",
              "      <div>\n",
              "<style scoped>\n",
              "    .dataframe tbody tr th:only-of-type {\n",
              "        vertical-align: middle;\n",
              "    }\n",
              "\n",
              "    .dataframe tbody tr th {\n",
              "        vertical-align: top;\n",
              "    }\n",
              "\n",
              "    .dataframe thead th {\n",
              "        text-align: right;\n",
              "    }\n",
              "</style>\n",
              "<table border=\"1\" class=\"dataframe\">\n",
              "  <thead>\n",
              "    <tr style=\"text-align: right;\">\n",
              "      <th></th>\n",
              "      <th>frame</th>\n",
              "      <th>id</th>\n",
              "      <th>class</th>\n",
              "      <th>geometry</th>\n",
              "      <th>time</th>\n",
              "    </tr>\n",
              "  </thead>\n",
              "  <tbody>\n",
              "    <tr>\n",
              "      <th>0</th>\n",
              "      <td>1</td>\n",
              "      <td>0</td>\n",
              "      <td>0</td>\n",
              "      <td>POINT (514782.468 5034508.365)</td>\n",
              "      <td>2021-07-15 14:59:31.000000</td>\n",
              "    </tr>\n",
              "    <tr>\n",
              "      <th>1</th>\n",
              "      <td>1</td>\n",
              "      <td>1</td>\n",
              "      <td>0</td>\n",
              "      <td>POINT (514780.687 5034524.989)</td>\n",
              "      <td>2021-07-15 14:59:31.000000</td>\n",
              "    </tr>\n",
              "    <tr>\n",
              "      <th>2</th>\n",
              "      <td>1</td>\n",
              "      <td>2</td>\n",
              "      <td>0</td>\n",
              "      <td>POINT (514780.885 5034525.582)</td>\n",
              "      <td>2021-07-15 14:59:31.000000</td>\n",
              "    </tr>\n",
              "    <tr>\n",
              "      <th>3</th>\n",
              "      <td>1</td>\n",
              "      <td>3</td>\n",
              "      <td>0</td>\n",
              "      <td>POINT (514798.300 5034522.020)</td>\n",
              "      <td>2021-07-15 14:59:31.000000</td>\n",
              "    </tr>\n",
              "    <tr>\n",
              "      <th>4</th>\n",
              "      <td>1</td>\n",
              "      <td>4</td>\n",
              "      <td>0</td>\n",
              "      <td>POINT (514776.531 5034562.392)</td>\n",
              "      <td>2021-07-15 14:59:31.000000</td>\n",
              "    </tr>\n",
              "  </tbody>\n",
              "</table>\n",
              "</div>\n",
              "      <button class=\"colab-df-convert\" onclick=\"convertToInteractive('df-0f68fa93-f597-495e-95a8-5b587a823239')\"\n",
              "              title=\"Convert this dataframe to an interactive table.\"\n",
              "              style=\"display:none;\">\n",
              "        \n",
              "  <svg xmlns=\"http://www.w3.org/2000/svg\" height=\"24px\"viewBox=\"0 0 24 24\"\n",
              "       width=\"24px\">\n",
              "    <path d=\"M0 0h24v24H0V0z\" fill=\"none\"/>\n",
              "    <path d=\"M18.56 5.44l.94 2.06.94-2.06 2.06-.94-2.06-.94-.94-2.06-.94 2.06-2.06.94zm-11 1L8.5 8.5l.94-2.06 2.06-.94-2.06-.94L8.5 2.5l-.94 2.06-2.06.94zm10 10l.94 2.06.94-2.06 2.06-.94-2.06-.94-.94-2.06-.94 2.06-2.06.94z\"/><path d=\"M17.41 7.96l-1.37-1.37c-.4-.4-.92-.59-1.43-.59-.52 0-1.04.2-1.43.59L10.3 9.45l-7.72 7.72c-.78.78-.78 2.05 0 2.83L4 21.41c.39.39.9.59 1.41.59.51 0 1.02-.2 1.41-.59l7.78-7.78 2.81-2.81c.8-.78.8-2.07 0-2.86zM5.41 20L4 18.59l7.72-7.72 1.47 1.35L5.41 20z\"/>\n",
              "  </svg>\n",
              "      </button>\n",
              "      \n",
              "  <style>\n",
              "    .colab-df-container {\n",
              "      display:flex;\n",
              "      flex-wrap:wrap;\n",
              "      gap: 12px;\n",
              "    }\n",
              "\n",
              "    .colab-df-convert {\n",
              "      background-color: #E8F0FE;\n",
              "      border: none;\n",
              "      border-radius: 50%;\n",
              "      cursor: pointer;\n",
              "      display: none;\n",
              "      fill: #1967D2;\n",
              "      height: 32px;\n",
              "      padding: 0 0 0 0;\n",
              "      width: 32px;\n",
              "    }\n",
              "\n",
              "    .colab-df-convert:hover {\n",
              "      background-color: #E2EBFA;\n",
              "      box-shadow: 0px 1px 2px rgba(60, 64, 67, 0.3), 0px 1px 3px 1px rgba(60, 64, 67, 0.15);\n",
              "      fill: #174EA6;\n",
              "    }\n",
              "\n",
              "    [theme=dark] .colab-df-convert {\n",
              "      background-color: #3B4455;\n",
              "      fill: #D2E3FC;\n",
              "    }\n",
              "\n",
              "    [theme=dark] .colab-df-convert:hover {\n",
              "      background-color: #434B5C;\n",
              "      box-shadow: 0px 1px 3px 1px rgba(0, 0, 0, 0.15);\n",
              "      filter: drop-shadow(0px 1px 2px rgba(0, 0, 0, 0.3));\n",
              "      fill: #FFFFFF;\n",
              "    }\n",
              "  </style>\n",
              "\n",
              "      <script>\n",
              "        const buttonEl =\n",
              "          document.querySelector('#df-0f68fa93-f597-495e-95a8-5b587a823239 button.colab-df-convert');\n",
              "        buttonEl.style.display =\n",
              "          google.colab.kernel.accessAllowed ? 'block' : 'none';\n",
              "\n",
              "        async function convertToInteractive(key) {\n",
              "          const element = document.querySelector('#df-0f68fa93-f597-495e-95a8-5b587a823239');\n",
              "          const dataTable =\n",
              "            await google.colab.kernel.invokeFunction('convertToInteractive',\n",
              "                                                     [key], {});\n",
              "          if (!dataTable) return;\n",
              "\n",
              "          const docLinkHtml = 'Like what you see? Visit the ' +\n",
              "            '<a target=\"_blank\" href=https://colab.research.google.com/notebooks/data_table.ipynb>data table notebook</a>'\n",
              "            + ' to learn more about interactive tables.';\n",
              "          element.innerHTML = '';\n",
              "          dataTable['output_type'] = 'display_data';\n",
              "          await google.colab.output.renderOutput(dataTable, element);\n",
              "          const docLink = document.createElement('div');\n",
              "          docLink.innerHTML = docLinkHtml;\n",
              "          element.appendChild(docLink);\n",
              "        }\n",
              "      </script>\n",
              "    </div>\n",
              "  </div>\n",
              "  "
            ]
          },
          "metadata": {},
          "execution_count": 43
        }
      ]
    },
    {
      "cell_type": "code",
      "source": [
        "inner_merged_total.tail()"
      ],
      "metadata": {
        "colab": {
          "base_uri": "https://localhost:8080/",
          "height": 206
        },
        "id": "casWu_Qk6Tyc",
        "outputId": "86656f9f-fbae-4894-d4a6-a88992bad3c9"
      },
      "execution_count": null,
      "outputs": [
        {
          "output_type": "execute_result",
          "data": {
            "text/plain": [
              "         frame      id  class                        geometry  \\\n",
              "9446270  27890  258101      0  POINT (514785.041 5034554.476)   \n",
              "9446271  27890  258102      0  POINT (514837.683 5034486.200)   \n",
              "9446272  27890  258103      0  POINT (514891.908 5034508.959)   \n",
              "9446273  27890  258104      0  POINT (514865.191 5034486.992)   \n",
              "9446274  27890  258105      0  POINT (514830.954 5034546.956)   \n",
              "\n",
              "                               time  \n",
              "9446270  2021-07-15 15:32:03.230000  \n",
              "9446271  2021-07-15 15:32:03.230000  \n",
              "9446272  2021-07-15 15:32:03.230000  \n",
              "9446273  2021-07-15 15:32:03.230000  \n",
              "9446274  2021-07-15 15:32:03.230000  "
            ],
            "text/html": [
              "\n",
              "  <div id=\"df-08aaa1aa-9892-49c5-beb2-815da51b0391\">\n",
              "    <div class=\"colab-df-container\">\n",
              "      <div>\n",
              "<style scoped>\n",
              "    .dataframe tbody tr th:only-of-type {\n",
              "        vertical-align: middle;\n",
              "    }\n",
              "\n",
              "    .dataframe tbody tr th {\n",
              "        vertical-align: top;\n",
              "    }\n",
              "\n",
              "    .dataframe thead th {\n",
              "        text-align: right;\n",
              "    }\n",
              "</style>\n",
              "<table border=\"1\" class=\"dataframe\">\n",
              "  <thead>\n",
              "    <tr style=\"text-align: right;\">\n",
              "      <th></th>\n",
              "      <th>frame</th>\n",
              "      <th>id</th>\n",
              "      <th>class</th>\n",
              "      <th>geometry</th>\n",
              "      <th>time</th>\n",
              "    </tr>\n",
              "  </thead>\n",
              "  <tbody>\n",
              "    <tr>\n",
              "      <th>9446270</th>\n",
              "      <td>27890</td>\n",
              "      <td>258101</td>\n",
              "      <td>0</td>\n",
              "      <td>POINT (514785.041 5034554.476)</td>\n",
              "      <td>2021-07-15 15:32:03.230000</td>\n",
              "    </tr>\n",
              "    <tr>\n",
              "      <th>9446271</th>\n",
              "      <td>27890</td>\n",
              "      <td>258102</td>\n",
              "      <td>0</td>\n",
              "      <td>POINT (514837.683 5034486.200)</td>\n",
              "      <td>2021-07-15 15:32:03.230000</td>\n",
              "    </tr>\n",
              "    <tr>\n",
              "      <th>9446272</th>\n",
              "      <td>27890</td>\n",
              "      <td>258103</td>\n",
              "      <td>0</td>\n",
              "      <td>POINT (514891.908 5034508.959)</td>\n",
              "      <td>2021-07-15 15:32:03.230000</td>\n",
              "    </tr>\n",
              "    <tr>\n",
              "      <th>9446273</th>\n",
              "      <td>27890</td>\n",
              "      <td>258104</td>\n",
              "      <td>0</td>\n",
              "      <td>POINT (514865.191 5034486.992)</td>\n",
              "      <td>2021-07-15 15:32:03.230000</td>\n",
              "    </tr>\n",
              "    <tr>\n",
              "      <th>9446274</th>\n",
              "      <td>27890</td>\n",
              "      <td>258105</td>\n",
              "      <td>0</td>\n",
              "      <td>POINT (514830.954 5034546.956)</td>\n",
              "      <td>2021-07-15 15:32:03.230000</td>\n",
              "    </tr>\n",
              "  </tbody>\n",
              "</table>\n",
              "</div>\n",
              "      <button class=\"colab-df-convert\" onclick=\"convertToInteractive('df-08aaa1aa-9892-49c5-beb2-815da51b0391')\"\n",
              "              title=\"Convert this dataframe to an interactive table.\"\n",
              "              style=\"display:none;\">\n",
              "        \n",
              "  <svg xmlns=\"http://www.w3.org/2000/svg\" height=\"24px\"viewBox=\"0 0 24 24\"\n",
              "       width=\"24px\">\n",
              "    <path d=\"M0 0h24v24H0V0z\" fill=\"none\"/>\n",
              "    <path d=\"M18.56 5.44l.94 2.06.94-2.06 2.06-.94-2.06-.94-.94-2.06-.94 2.06-2.06.94zm-11 1L8.5 8.5l.94-2.06 2.06-.94-2.06-.94L8.5 2.5l-.94 2.06-2.06.94zm10 10l.94 2.06.94-2.06 2.06-.94-2.06-.94-.94-2.06-.94 2.06-2.06.94z\"/><path d=\"M17.41 7.96l-1.37-1.37c-.4-.4-.92-.59-1.43-.59-.52 0-1.04.2-1.43.59L10.3 9.45l-7.72 7.72c-.78.78-.78 2.05 0 2.83L4 21.41c.39.39.9.59 1.41.59.51 0 1.02-.2 1.41-.59l7.78-7.78 2.81-2.81c.8-.78.8-2.07 0-2.86zM5.41 20L4 18.59l7.72-7.72 1.47 1.35L5.41 20z\"/>\n",
              "  </svg>\n",
              "      </button>\n",
              "      \n",
              "  <style>\n",
              "    .colab-df-container {\n",
              "      display:flex;\n",
              "      flex-wrap:wrap;\n",
              "      gap: 12px;\n",
              "    }\n",
              "\n",
              "    .colab-df-convert {\n",
              "      background-color: #E8F0FE;\n",
              "      border: none;\n",
              "      border-radius: 50%;\n",
              "      cursor: pointer;\n",
              "      display: none;\n",
              "      fill: #1967D2;\n",
              "      height: 32px;\n",
              "      padding: 0 0 0 0;\n",
              "      width: 32px;\n",
              "    }\n",
              "\n",
              "    .colab-df-convert:hover {\n",
              "      background-color: #E2EBFA;\n",
              "      box-shadow: 0px 1px 2px rgba(60, 64, 67, 0.3), 0px 1px 3px 1px rgba(60, 64, 67, 0.15);\n",
              "      fill: #174EA6;\n",
              "    }\n",
              "\n",
              "    [theme=dark] .colab-df-convert {\n",
              "      background-color: #3B4455;\n",
              "      fill: #D2E3FC;\n",
              "    }\n",
              "\n",
              "    [theme=dark] .colab-df-convert:hover {\n",
              "      background-color: #434B5C;\n",
              "      box-shadow: 0px 1px 3px 1px rgba(0, 0, 0, 0.15);\n",
              "      filter: drop-shadow(0px 1px 2px rgba(0, 0, 0, 0.3));\n",
              "      fill: #FFFFFF;\n",
              "    }\n",
              "  </style>\n",
              "\n",
              "      <script>\n",
              "        const buttonEl =\n",
              "          document.querySelector('#df-08aaa1aa-9892-49c5-beb2-815da51b0391 button.colab-df-convert');\n",
              "        buttonEl.style.display =\n",
              "          google.colab.kernel.accessAllowed ? 'block' : 'none';\n",
              "\n",
              "        async function convertToInteractive(key) {\n",
              "          const element = document.querySelector('#df-08aaa1aa-9892-49c5-beb2-815da51b0391');\n",
              "          const dataTable =\n",
              "            await google.colab.kernel.invokeFunction('convertToInteractive',\n",
              "                                                     [key], {});\n",
              "          if (!dataTable) return;\n",
              "\n",
              "          const docLinkHtml = 'Like what you see? Visit the ' +\n",
              "            '<a target=\"_blank\" href=https://colab.research.google.com/notebooks/data_table.ipynb>data table notebook</a>'\n",
              "            + ' to learn more about interactive tables.';\n",
              "          element.innerHTML = '';\n",
              "          dataTable['output_type'] = 'display_data';\n",
              "          await google.colab.output.renderOutput(dataTable, element);\n",
              "          const docLink = document.createElement('div');\n",
              "          docLink.innerHTML = docLinkHtml;\n",
              "          element.appendChild(docLink);\n",
              "        }\n",
              "      </script>\n",
              "    </div>\n",
              "  </div>\n",
              "  "
            ]
          },
          "metadata": {},
          "execution_count": 44
        }
      ]
    },
    {
      "cell_type": "code",
      "source": [
        "# salvataggio dataset finale\n",
        "inner_merged_total.to_file('detection_milan_2021-07-15_14_59_31_hour.geojson', driver='GeoJSON')"
      ],
      "metadata": {
        "id": "BFl5eOPGZA4s"
      },
      "execution_count": null,
      "outputs": []
    },
    {
      "cell_type": "code",
      "source": [
        "!cp /content/detection_milan_2021-07-15_14_59_31_hour.geojson /content/drive/MyDrive"
      ],
      "metadata": {
        "id": "3faFYIGb-FjJ"
      },
      "execution_count": null,
      "outputs": []
    },
    {
      "cell_type": "code",
      "source": [
        "df_geopandas = gpd.read_file('/content/drive/MyDrive/detections_YOLOv7_SORT/milan_2021-07-15_14_59_31/Copia di detection_milan_2021-07-15_14_59_31_hour.geojson')\n",
        "\n",
        "# sarebbe più corretto chiamarli x e y\n",
        "df_geopandas['lon'] = df_geopandas.geometry.x\n",
        "df_geopandas['lat'] = df_geopandas.geometry.y\n",
        "\n",
        "gdf = gpd.GeoDataFrame(df_geopandas, geometry=gpd.points_from_xy(df_geopandas.lon, df_geopandas.lat))\n",
        "gdf.to_feather('detection_milan_2021-07-15_14_59_31_hour.feather')  \n",
        "!cp /content/detection_milan_2021-07-15_14_59_31_hour.feather /content/drive/MyDrive"
      ],
      "metadata": {
        "id": "US0lfo5W6hU2"
      },
      "execution_count": null,
      "outputs": []
    }
  ]
}